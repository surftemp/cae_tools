{
 "cells": [
  {
   "cell_type": "code",
   "execution_count": 1,
   "id": "efd29b17",
   "metadata": {},
   "outputs": [
    {
     "name": "stderr",
     "output_type": "stream",
     "text": [
      "usage: ipykernel_launcher.py [-h] [--grid-path GRID_PATH]\n",
      "                             [--input-folder INPUT_FOLDER]\n",
      "ipykernel_launcher.py: error: unrecognized arguments: -f /home/jovyan/.local/share/jupyter/runtime/kernel-f0c87ad4-d33b-4bac-84e6-9bfd0a300c7e.json\n"
     ]
    },
    {
     "ename": "SystemExit",
     "evalue": "2",
     "output_type": "error",
     "traceback": [
      "An exception has occurred, use %tb to see the full traceback.\n",
      "\u001b[0;31mSystemExit\u001b[0m\u001b[0;31m:\u001b[0m 2\n"
     ]
    },
    {
     "name": "stderr",
     "output_type": "stream",
     "text": [
      "/opt/conda/lib/python3.8/site-packages/IPython/core/interactiveshell.py:3452: UserWarning: To exit: use 'exit', 'quit', or Ctrl-D.\n",
      "  warn(\"To exit: use 'exit', 'quit', or Ctrl-D.\", stacklevel=1)\n"
     ]
    }
   ],
   "source": [
    "import argparse\n",
    "\n",
    "import matplotlib.pyplot as plt\n",
    "import cartopy.crs as ccrs\n",
    "\n",
    "import cartopy.feature as cfeature\n",
    "import shapely.geometry as sgeom\n",
    "\n",
    "parser = argparse.ArgumentParser()\n",
    "parser.add_argument(\"--grid-path\",default=\"/lustre_scratch/shaerdan/maps/EOCIS-CHUK-GRID-100M-v1.0.nc\")\n",
    "parser.add_argument(\"--input-folder\",default=\"/lustre_scratch/shaerdan/data_folder/train\")\n",
    "args = parser.parse_args()\n",
    "\n",
    "path = args.grid_path\n",
    "\n",
    "import os\n",
    "import xarray as xr\n",
    "\n",
    "# open the target grid, just to get the UK bounding box\n",
    "ds = xr.open_dataset(path)\n",
    "\n",
    "# work out the area of interest - the UK\n",
    "x_min = 0\n",
    "x_max = int(ds.x.max())\n",
    "y_min = 0\n",
    "y_max = int(ds.y.max())\n",
    "\n",
    "print(x_min,x_max,y_min,y_max)\n",
    "\n",
    "# collect the input files, from each file we will read multiple scenes and bin them\n",
    "input_files = []\n",
    "for file in os.listdir(args.input_folder):\n",
    "    if file.endswith(\".nc\"):\n",
    "        input_files.append(os.path.join(args.input_folder,file))\n",
    "\n",
    "fig = plt.figure(figsize=(12,24))\n",
    "ax = fig.add_subplot(1, 1, 1, projection=ccrs.OSGB())\n",
    "ax.set_extent([x_min, x_max, y_min, y_max], crs=ccrs.OSGB())\n",
    "\n",
    "ax.add_feature(cfeature.LAND)\n",
    "ax.add_feature(cfeature.OCEAN)\n",
    "ax.add_feature(cfeature.COASTLINE)\n",
    "\n",
    "colour = \"#00FF0010\"\n",
    "\n",
    "# record the number of scenes that fall into each (y,x) box\n",
    "counts = {}\n",
    "\n",
    "# track the maximum number of scenes in any bin\n",
    "max_count = 0\n",
    "\n",
    "# define the bin size in m\n",
    "sz=10000\n",
    "\n",
    "for file in input_files:\n",
    "    # for each input file...\n",
    "    print(file)\n",
    "    ds = xr.open_dataset(file)\n",
    "    n = ds.x_eastings.shape[0]\n",
    "    # go through the scenes in the file...\n",
    "    for i in range(0,n):\n",
    "        eastings = ds.x_eastings\n",
    "        northings = ds.y_northings\n",
    "\n",
    "        # for each scene bin the x,y coordinates\n",
    "        grid_x_min = round(float(eastings[i,0]+5000)/sz)*sz\n",
    "        grid_y_min = round(float(northings[i,-1]+5000)/sz)*sz\n",
    "        \n",
    "        # update the count for this bin\n",
    "        if (grid_y_min,grid_x_min) not in counts:\n",
    "            counts[(grid_y_min,grid_x_min)] = 0\n",
    "        count = counts[(grid_y_min, grid_x_min)] + 1\n",
    "        if count > max_count:\n",
    "            max_count = count\n",
    "        counts[(grid_y_min,grid_x_min)] = count\n",
    "\n",
    "# for each bin, plot a rectangle on the map\n",
    "for (y,x) in counts:\n",
    "    count = counts[(y,x)]\n",
    "    # define a red colour with transparency (alpha channel) based on the count\n",
    "    col = \"#FF0000%02X\"%(int(255*(count/float(max_count))))\n",
    "    polygon = sgeom.Polygon(shell=[(x-sz/2,y-sz/2),(x-sz/2,y+sz/2),(x+sz/2,y+sz/2),(x+sz/2,y-sz/2)])\n",
    "    ax.add_geometries([polygon], ccrs.OSGB(),facecolor=col)\n",
    "\n",
    "plt.savefig(\"plot.png\")"
   ]
  },
  {
   "cell_type": "code",
   "execution_count": null,
   "id": "147ad120",
   "metadata": {},
   "outputs": [],
   "source": []
  }
 ],
 "metadata": {
  "kernelspec": {
   "display_name": "Python 3 (ipykernel)",
   "language": "python",
   "name": "python3"
  },
  "language_info": {
   "codemirror_mode": {
    "name": "ipython",
    "version": 3
   },
   "file_extension": ".py",
   "mimetype": "text/x-python",
   "name": "python",
   "nbconvert_exporter": "python",
   "pygments_lexer": "ipython3",
   "version": "3.8.12"
  }
 },
 "nbformat": 4,
 "nbformat_minor": 5
}

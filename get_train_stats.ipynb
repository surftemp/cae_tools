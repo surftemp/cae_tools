{
 "cells": [
  {
   "cell_type": "code",
   "execution_count": null,
   "id": "f0a40ff9",
   "metadata": {},
   "outputs": [],
   "source": [
    "import numpy as np\n",
    "import xarray as xr\n",
    "import matplotlib.pyplot as plt\n",
    "\n",
    "path = \"/lustre_scratch/shaerdan/data_folder/10km_v5/train\"\n",
    "\n",
    "\n",
    "list_of_zones = \n",
    "\n",
    "for zone in list_of_zones:\n",
    "    filename = f\"\""
   ]
  }
 ],
 "metadata": {
  "kernelspec": {
   "display_name": "Python 3 (ipykernel)",
   "language": "python",
   "name": "python3"
  },
  "language_info": {
   "codemirror_mode": {
    "name": "ipython",
    "version": 3
   },
   "file_extension": ".py",
   "mimetype": "text/x-python",
   "name": "python",
   "nbconvert_exporter": "python",
   "pygments_lexer": "ipython3",
   "version": "3.8.12"
  }
 },
 "nbformat": 4,
 "nbformat_minor": 5
}
